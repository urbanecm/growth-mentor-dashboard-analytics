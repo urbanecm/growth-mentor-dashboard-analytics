{
 "cells": [
  {
   "cell_type": "markdown",
   "id": "e8a9b4a1",
   "metadata": {},
   "source": [
    "# Mentor dashboard analytics\n",
    "This notebook supports the [Superset dashboard](https://superset.wikimedia.org/superset/dashboard/294/) used to analyze the mentor dashboard.\n",
    "\n",
    "### License statement\n",
    "Copyright 2021 Martin Urbanec (murbanec-ctr@wikimedia.org)\n",
    "\n",
    "Licensed under the Apache License, Version 2.0 (the \"License\"); you may not use this file except in compliance with the License. You may obtain a copy of the License at\n",
    "\n",
    "http://www.apache.org/licenses/LICENSE-2.0\n",
    "\n",
    "Unless required by applicable law or agreed to in writing, software distributed under the License is distributed on an \"AS IS\" BASIS, WITHOUT WARRANTIES OR CONDITIONS OF ANY KIND, either express or implied. See the License for the specific language governing permissions and limitations under the License."
   ]
  },
  {
   "cell_type": "code",
   "execution_count": null,
   "id": "b5dafe71",
   "metadata": {},
   "outputs": [],
   "source": [
    "from wmfdata import spark, hive, mariadb, utils\n",
    "import requests\n",
    "import pandas as pd"
   ]
  },
  {
   "cell_type": "code",
   "execution_count": null,
   "id": "0e624b6e",
   "metadata": {},
   "outputs": [],
   "source": [
    "sparkSession = spark.get_session(app_name='Mentor dashboard analysis')"
   ]
  },
  {
   "cell_type": "code",
   "execution_count": null,
   "id": "708483b8",
   "metadata": {},
   "outputs": [],
   "source": [
    "PILOT_WIKIS = list(\n",
    "    set(utils.get_dblist('growthexperiments')) -\n",
    "    {'testwiki'}\n",
    ")"
   ]
  },
  {
   "cell_type": "markdown",
   "id": "19ea62d5",
   "metadata": {},
   "source": [
    "## Update `urbanecm_growth.mentor_count`\n",
    "The `urbanecm_growth.mentor_count` Hive table is used by the Superset dashboard"
   ]
  },
  {
   "cell_type": "code",
   "execution_count": null,
   "id": "b1d1a491",
   "metadata": {},
   "outputs": [],
   "source": [
    "def get_mentor_count(domain, page_title):\n",
    "    r = requests.get('https://{domain}/w/api.php'.format(domain=domain), params={\n",
    "        \"action\": \"query\",\n",
    "        \"format\": \"json\",\n",
    "        \"prop\": \"links\",\n",
    "        \"titles\": page_title,\n",
    "        \"plnamespace\": \"2\",\n",
    "        \"pllimit\": \"max\"\n",
    "    })\n",
    "    data = r.json()\n",
    "    data = data['query']['pages']\n",
    "    data = data[list(data.keys())[0]]\n",
    "    try:\n",
    "        return len(data['links'])\n",
    "    except:\n",
    "        return 0"
   ]
  },
  {
   "cell_type": "code",
   "execution_count": null,
   "id": "a6cc24a2",
   "metadata": {},
   "outputs": [],
   "source": [
    "wikis_df = spark.run('SELECT * FROM canonical_data.wikis')\n",
    "growth_wikis = utils.get_dblist('growthexperiments')\n",
    "pandaData = {\n",
    "    'domain': [],\n",
    "    'auto_mentors': [],\n",
    "    'manual_mentors': [],\n",
    "    'mentors': []\n",
    "}\n",
    "for wiki in growth_wikis:\n",
    "    domain = None\n",
    "    tmp = list(wikis_df.loc[wikis_df.database_code == wiki].domain_name)\n",
    "    if len(tmp) == 0:\n",
    "        continue\n",
    "    domain = tmp[0]\n",
    "    \n",
    "    try:\n",
    "        geConfig = requests.get(\n",
    "            'https://{domain}/w/index.php?title=MediaWiki:GrowthExperimentsConfig.json&action=raw'.format(\n",
    "                domain=domain\n",
    "            )\n",
    "        ).json()\n",
    "    except:\n",
    "        print('ERROR fetching wiki config: {wiki}'.format(wiki=wiki))\n",
    "        continue\n",
    "    \n",
    "    autoMentorList = geConfig.get('GEHomepageMentorsList', '')\n",
    "    manualMentorList = geConfig.get('GEHomepageManualAssignmentMentorsList', '')\n",
    "    \n",
    "    autoMentorsCount = 0\n",
    "    if autoMentorList != '' and autoMentorList is not None:\n",
    "        autoMentorsCount = get_mentor_count(domain, autoMentorList)\n",
    "    \n",
    "    manualMentorsCount = 0\n",
    "    if manualMentorList != '' and manualMentorList is not None:\n",
    "        manualMentorsCount = get_mentor_count(domain, manualMentorList)\n",
    "    \n",
    "    pandaData['domain'].append(domain)\n",
    "    pandaData['auto_mentors'].append(autoMentorsCount)\n",
    "    pandaData['manual_mentors'].append(manualMentorsCount)\n",
    "    pandaData['mentors'].append(autoMentorsCount + manualMentorsCount)\n",
    "    \n",
    "mentors_df = pd.DataFrame(pandaData)"
   ]
  },
  {
   "cell_type": "code",
   "execution_count": null,
   "id": "90313029",
   "metadata": {},
   "outputs": [],
   "source": [
    "mentors_df.to_csv('/home/urbanecm/tmp/mentors.tsv', index=False)"
   ]
  },
  {
   "cell_type": "code",
   "execution_count": null,
   "id": "7025a8af",
   "metadata": {},
   "outputs": [],
   "source": [
    "!sed 1d -i /home/urbanecm/tmp/mentors.tsv"
   ]
  },
  {
   "cell_type": "code",
   "execution_count": null,
   "id": "c5257941",
   "metadata": {},
   "outputs": [],
   "source": [
    "hive.run([\n",
    "    'TRUNCATE TABLE urbanecm_growth.mentor_count',\n",
    "    '''\n",
    "    LOAD DATA LOCAL INPATH \"/home/urbanecm/tmp/mentors.tsv\"\n",
    "    OVERWRITE INTO TABLE urbanecm_growth.mentor_count\n",
    "    '''\n",
    "])"
   ]
  },
  {
   "cell_type": "code",
   "execution_count": null,
   "id": "b529ed8d",
   "metadata": {},
   "outputs": [],
   "source": [
    "hive.load_csv(\n",
    "    path='/home/urbanecm/tmp/mentors.tsv',\n",
    "    field_spec='domain string, auto_mentors int, manual_mentors int, mentors int',\n",
    "    db_name='urbanecm_growth',\n",
    "    table_name='mentor_dashboard_mentor_count'\n",
    ")"
   ]
  },
  {
   "cell_type": "markdown",
   "id": "9f47bed0",
   "metadata": {},
   "source": [
    "## Update `urbanecm_growth.mentor_dashboard_deployed_wikis`\n",
    "The `urbanecm_growth.mentor_dashboard_deployed_wikis` Hive table is used by Superset dashboard to show data only for the pilot wikis."
   ]
  },
  {
   "cell_type": "code",
   "execution_count": null,
   "id": "68136286",
   "metadata": {},
   "outputs": [],
   "source": [
    "spark.run([\n",
    "    'TRUNCATE TABLE urbanecm_growth.mentor_dashboard_deployed_wikis',\n",
    "    '''\n",
    "    INSERT INTO urbanecm_growth.mentor_dashboard_deployed_wikis\n",
    "    SELECT domain_name\n",
    "    FROM canonical_data.wikis\n",
    "    WHERE\n",
    "        -- we need to be deployed on the wiki in the first place\n",
    "            database_code IN ({pilot_wikis})\n",
    "        -- wiki needs to have at least one mentor to be meaningful\n",
    "        AND (\n",
    "            domain_name IN (\n",
    "                SELECT domain\n",
    "                FROM urbanecm_growth.mentor_count\n",
    "                WHERE mentors > 0\n",
    "            )\n",
    "        )\n",
    "        -- \n",
    "    '''.format(\n",
    "        pilot_wikis=', '.join([\"'%s'\" % x for x in PILOT_WIKIS])\n",
    "    ),\n",
    "    'SELECT * FROM urbanecm_growth.mentor_dashboard_deployed_wikis'\n",
    "])"
   ]
  },
  {
   "cell_type": "markdown",
   "id": "ebbed9ef",
   "metadata": {},
   "source": [
    "## Update `urbanecm_growth.mentor_dashboard_pageviews_views_per_day`"
   ]
  },
  {
   "cell_type": "code",
   "execution_count": null,
   "id": "4fa510ca",
   "metadata": {},
   "outputs": [],
   "source": [
    "spark.run([\n",
    "    '''\n",
    "    INSERT OVERWRITE TABLE urbanecm_growth.mentor_dashboard_pageviews_views_per_day\n",
    "    SELECT\n",
    "        tmp.date,\n",
    "        tmp.domain,\n",
    "        user_id\n",
    "    FROM (\n",
    "        SELECT `date`, domain\n",
    "        FROM urbanecm_growth.mentor_dashboard_deployed_wikis\n",
    "        CROSS JOIN (\n",
    "            SELECT DISTINCT DATE(dt) AS `date`\n",
    "            FROM event.mediawiki_mentor_dashboard_visit\n",
    "            WHERE (\n",
    "                year = 2021 AND\n",
    "                month >= 10\n",
    "            ) OR (\n",
    "                year > 2021\n",
    "            )\n",
    "        ) AS dates\n",
    "    ) AS tmp\n",
    "    LEFT JOIN event.mediawiki_mentor_dashboard_visit AS views ON (\n",
    "        (tmp.date=DATE(views.dt)) AND\n",
    "        (tmp.domain=meta.domain)\n",
    "    )\n",
    "    ''',\n",
    "    '''\n",
    "    SELECT *\n",
    "    FROM urbanecm_growth.mentor_dashboard_pageviews_views_per_day\n",
    "    LIMIT 10'''\n",
    "])"
   ]
  }
 ],
 "metadata": {
  "kernelspec": {
   "display_name": "Python 3 (ipykernel)",
   "language": "python",
   "name": "python3"
  },
  "language_info": {
   "codemirror_mode": {
    "name": "ipython",
    "version": 3
   },
   "file_extension": ".py",
   "mimetype": "text/x-python",
   "name": "python",
   "nbconvert_exporter": "python",
   "pygments_lexer": "ipython3",
   "version": "3.7.11"
  }
 },
 "nbformat": 4,
 "nbformat_minor": 5
}
