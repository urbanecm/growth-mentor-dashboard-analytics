{
 "cells": [
  {
   "cell_type": "markdown",
   "id": "90891813",
   "metadata": {},
   "source": [
    "# Mentorship opt-out/opt-in rate dashboard\n",
    "This notebook supports the [Superset dashboard](https://superset.wikimedia.org/superset/dashboard/368/) that shows the opt-out/opt in rate for mentorship.\n",
    "\n",
    "### License statement\n",
    "Copyright 2022 Martin Urbanec (murbanec-ctr@wikimedia.org)\n",
    "\n",
    "Licensed under the Apache License, Version 2.0 (the \"License\"); you may not use this file except in compliance with the License. You may obtain a copy of the License at\n",
    "\n",
    "http://www.apache.org/licenses/LICENSE-2.0\n",
    "\n",
    "Unless required by applicable law or agreed to in writing, software distributed under the License is distributed on an \"AS IS\" BASIS, WITHOUT WARRANTIES OR CONDITIONS OF ANY KIND, either express or implied. See the License for the specific language governing permissions and limitations under the License."
   ]
  },
  {
   "cell_type": "code",
   "execution_count": null,
   "id": "7efdf770",
   "metadata": {},
   "outputs": [],
   "source": [
    "from wmfdata import spark\n",
    "import pandas as pd"
   ]
  },
  {
   "cell_type": "code",
   "execution_count": null,
   "id": "ba318298",
   "metadata": {},
   "outputs": [],
   "source": [
    "sparkSession = spark.get_session(app_name='Growth mentorship analysis')"
   ]
  },
  {
   "cell_type": "markdown",
   "id": "8f241648",
   "metadata": {},
   "source": [
    "## Update `urbanecm_growth.mentorship_optout`\n",
    "\n",
    "The table has detailed information about opting out."
   ]
  },
  {
   "cell_type": "code",
   "execution_count": null,
   "id": "3199fc3d",
   "metadata": {},
   "outputs": [],
   "source": [
    "spark.run('''\n",
    "INSERT OVERWRITE TABLE urbanecm_growth.mentorship_optout\n",
    "SELECT\n",
    "    dt,\n",
    "    wiki,\n",
    "    event.user_id,\n",
    "    event.user_editcount,\n",
    "    event.user_variant,\n",
    "    event.mode,\n",
    "    event.is_mobile,\n",
    "    str_to_map(event.action_data, \";\", \"=\") AS action_data\n",
    "FROM event.homepagemodule\n",
    "WHERE\n",
    "    year = 2022\n",
    "    AND (\n",
    "        month > 5 OR (\n",
    "                month = 5\n",
    "            AND day >= 19\n",
    "        )\n",
    "    )\n",
    "    AND event.action = 'mentorship-optout'\n",
    "''')"
   ]
  },
  {
   "cell_type": "markdown",
   "id": "62e9be15",
   "metadata": {},
   "source": [
    "## Update `urbanecm_growth.mentorship_optin`\n",
    "The table has detailed information about opting in."
   ]
  },
  {
   "cell_type": "code",
   "execution_count": null,
   "id": "36dfdaed",
   "metadata": {},
   "outputs": [],
   "source": [
    "spark.run('''\n",
    "INSERT OVERWRITE TABLE urbanecm_growth.mentorship_optin\n",
    "SELECT\n",
    "    dt,\n",
    "    wiki,\n",
    "    event.user_id,\n",
    "    event.user_editcount,\n",
    "    event.user_variant,\n",
    "    event.mode,\n",
    "    event.is_mobile,\n",
    "    str_to_map(event.action_data, \";\", \"=\") AS action_data\n",
    "FROM event.homepagemodule\n",
    "WHERE\n",
    "    year = 2022\n",
    "    AND (\n",
    "        month > 5 OR (\n",
    "                month = 5\n",
    "            AND day >= 19\n",
    "        )\n",
    "    )\n",
    "    AND event.action = 'mentorship-optin'\n",
    "''')"
   ]
  }
 ],
 "metadata": {
  "kernelspec": {
   "display_name": "Python 3 (ipykernel)",
   "language": "python",
   "name": "python3"
  },
  "language_info": {
   "codemirror_mode": {
    "name": "ipython",
    "version": 3
   },
   "file_extension": ".py",
   "mimetype": "text/x-python",
   "name": "python",
   "nbconvert_exporter": "python",
   "pygments_lexer": "ipython3",
   "version": "3.7.11"
  }
 },
 "nbformat": 4,
 "nbformat_minor": 5
}
