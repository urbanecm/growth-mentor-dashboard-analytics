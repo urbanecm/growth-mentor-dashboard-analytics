{
 "cells": [
  {
   "cell_type": "markdown",
   "id": "bfa62324",
   "metadata": {},
   "source": [
    "# Mentorship: `mentor_lists`\n",
    "This notebook updates `urbanecm_growth.mentor_lists` with mentor lists configured at all Growth wikis. It runs regularly.\n",
    "\n",
    "### License statement\n",
    "Copyright 2021 Martin Urbanec (murbanec-ctr@wikimedia.org)\n",
    "\n",
    "Licensed under the Apache License, Version 2.0 (the \"License\"); you may not use this file except in compliance with the License. You may obtain a copy of the License at\n",
    "\n",
    "http://www.apache.org/licenses/LICENSE-2.0\n",
    "\n",
    "Unless required by applicable law or agreed to in writing, software distributed under the License is distributed on an \"AS IS\" BASIS, WITHOUT WARRANTIES OR CONDITIONS OF ANY KIND, either express or implied. See the License for the specific language governing permissions and limitations under the License."
   ]
  },
  {
   "cell_type": "code",
   "execution_count": null,
   "id": "75ec6fd4",
   "metadata": {},
   "outputs": [],
   "source": [
    "from wmfdata import mariadb, utils, spark, hive\n",
    "\n",
    "import pandas as pd\n",
    "import requests"
   ]
  },
  {
   "cell_type": "code",
   "execution_count": null,
   "id": "f5539db7",
   "metadata": {},
   "outputs": [],
   "source": [
    "wikis_df = spark.run('SELECT * FROM canonical_data.wikis')\n",
    "growth_wikis = utils.get_dblist('growthexperiments')\n",
    "pandaData = {\n",
    "    'wiki_db': [],\n",
    "    'domain': [],\n",
    "    'auto_list': [],\n",
    "    'manual_list': [],\n",
    "}\n",
    "\n",
    "for wiki in growth_wikis:\n",
    "    domain = None\n",
    "    tmp = list(wikis_df.loc[wikis_df.database_code == wiki].domain_name)\n",
    "    if len(tmp) == 0:\n",
    "        continue\n",
    "    domain = tmp[0]\n",
    "    \n",
    "    try:\n",
    "        geConfig = requests.get(\n",
    "            'https://{domain}/w/index.php?title=MediaWiki:GrowthExperimentsConfig.json&action=raw'.format(\n",
    "                domain=domain\n",
    "            )\n",
    "        ).json()\n",
    "    except:\n",
    "        print('ERROR fetching wiki config: {wiki}'.format(wiki=wiki))\n",
    "        continue\n",
    "    \n",
    "    pandaData['wiki_db'].append(wiki)\n",
    "    pandaData['domain'].append(domain)\n",
    "    pandaData['auto_list'].append(geConfig.get('GEHomepageMentorsList', ''))\n",
    "    pandaData['manual_list'].append(geConfig.get('GEHomepageManualAssignmentMentorsList', ''))\n",
    "\n",
    "mentors_df = pd.DataFrame(pandaData)\n",
    "mentors_df.to_csv('/home/urbanecm/tmp/mentor_lists.tsv', index=False)"
   ]
  },
  {
   "cell_type": "code",
   "execution_count": null,
   "id": "774dfba6",
   "metadata": {},
   "outputs": [],
   "source": [
    "!sed 1d -i /home/urbanecm/tmp/mentor_lists.tsv"
   ]
  },
  {
   "cell_type": "code",
   "execution_count": null,
   "id": "b93d72ff",
   "metadata": {},
   "outputs": [],
   "source": [
    "hive.run([\n",
    "    'TRUNCATE TABLE urbanecm_growth.mentor_lists',\n",
    "    '''\n",
    "    LOAD DATA LOCAL INPATH \"/home/urbanecm/tmp/mentor_lists.tsv\"\n",
    "    OVERWRITE INTO TABLE urbanecm_growth.mentor_lists\n",
    "    '''\n",
    "])"
   ]
  }
 ],
 "metadata": {
  "kernelspec": {
   "display_name": "Python 3 (ipykernel)",
   "language": "python",
   "name": "python3"
  },
  "language_info": {
   "codemirror_mode": {
    "name": "ipython",
    "version": 3
   },
   "file_extension": ".py",
   "mimetype": "text/x-python",
   "name": "python",
   "nbconvert_exporter": "python",
   "pygments_lexer": "ipython3",
   "version": "3.7.11"
  }
 },
 "nbformat": 4,
 "nbformat_minor": 5
}
